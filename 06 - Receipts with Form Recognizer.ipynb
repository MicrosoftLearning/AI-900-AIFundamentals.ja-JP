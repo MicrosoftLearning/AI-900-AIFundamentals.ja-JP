{
  "cells": [
    {
      "cell_type": "markdown",
      "source": [
        "# Form Recognizer で領収書を分析します\r\n",
        "\r\n",
        "![領収書を持っているロボット](./images/receipt_analysis.jpg)\r\n",
        "\r\n",
        "Computer Vision の人工知能 (AI) の分野では、印刷文書や手書き文書を読み取るために光学式文字認識 (OCR) が一般的に使用されます。多くの場合、それらの文書からテキストを単に抽出したあと、さらなる処理や分析は抽出先のフォーマットを使用して行われます。\r\n",
        "\r\n",
        "より高度な OCR のシナリオには、注文書や請求書などのフォームから情報を抽出し、それと同時にフォームの各フィールドが表す情報を意味論的に理解することです。**Form Recognizer** サービスは、AI のこの種の課題に対応できるように特別に設計されています。\r\n",
        "\r\n",
        "## 領収書を表示する\r\n",
        "\r\n",
        "この例では、Form Recognizer の組み込みモデルを使用して領収書を分析します。\r\n",
        "\r\n",
        "セルの左側にある 「**セルの実行**」(&#9655;) ボタンをクリックして実行し、Form Recognizer を使用して分析する領収書の例を確認します。"
      ],
      "metadata": {}
    },
    {
      "cell_type": "code",
      "source": [
        "import matplotlib.pyplot as plt\n",
        "from PIL import Image\n",
        "import os\n",
        "%matplotlib inline\n",
        "\n",
        "\n",
        "# Load and display a receipt image\r\n",
        "fig = plt.figure(figsize=(6, 6))\n",
        "image_path = os.path.join('data', 'form-receipt', 'receipt.jpg')\n",
        "img = Image.open(image_path)\n",
        "plt.axis('off')\n",
        "plt.imshow(img)"
      ],
      "outputs": [],
      "execution_count": null,
      "metadata": {
        "gather": {
          "logged": 1599694427893
        }
      }
    },
    {
      "cell_type": "markdown",
      "source": [
        "## Form Recognizer リソースを作成する\r\n",
        "\r\n",
        "Azure サブスクリプションに Form Recognizer リソースを作成することから始めます。\r\n",
        "\r\n",
        "1. ブラウザーの新しいタブで Azure portal (https://portal.azure.com) を開き、Microsoft アカウントでサインインします。\r\n",
        "2. 「**+ リソースの作成**」 を選択し、*Form Recognizer* を検索します。\r\n",
        "3. サービスの一覧から 「**Form Recognizer**」 を選択します。\r\n",
        "4. 「**Form Recognizer**」 ブレードで 「**作成**」 を選択します。\r\n",
        "5. 「**作成**」 ブレードで次の詳細を入力し、「**作成**」 を選択します。\r\n",
        "   - **名前**: サービスの一意の名前\r\n",
        "   - **サブスクリプション**: 使用する Azure サブスクリプション\r\n",
        "   - **リージョン**: 利用可能な任意のリージョン\r\n",
        "   - **価格レベル**: F0\r\n",
        "   - **リソース グループ**: 前に使用した既存のリソース グループ\r\n",
        "   - **注意事項を読み理解しました**: 選択されています。\r\n",
        "6. サービスが作成されるまで待ちます。\r\n",
        "7. 新しく作成した Form Recognizer サービスを Azure portal で表示し、「**キーとエンドポイント**」 ページから 「**キー1**」 と 「**エンドポイント**」 の値をコピーして以下のコード セルに貼り付けます (**YOUR_FORM_KEY**、**YOUR_FORM_ENDPOINT** とそれぞれ置き換える)。"
      ],
      "metadata": {}
    },
    {
      "cell_type": "code",
      "source": [
        "form_key = 'YOUR_FORM_KEY'\n",
        "form_endpoint = 'YOUR_FORM_ENDPOINT'\n",
        "\n",
        "print('Ready to use form recognizer at {} using key {}'.format(form_endpoint, form_key))"
      ],
      "outputs": [],
      "execution_count": null,
      "metadata": {
        "gather": {
          "logged": 1599694505850
        }
      }
    },
    {
      "cell_type": "markdown",
      "source": [
        "## 領収書を分析する\r\n",
        "\r\n",
        "これで、Form Recognizer を使用して領収書を分析する準備が整いました。"
      ],
      "metadata": {}
    },
    {
      "cell_type": "code",
      "source": [
        "import os\n",
        "from azure.ai.formrecognizer import FormRecognizerClient\n",
        "from azure.core.credentials import AzureKeyCredential\n",
        "\n",
        "# Create a client for the form recognizer service\r\n",
        "form_recognizer_client = FormRecognizerClient(endpoint=form_endpoint, credential=AzureKeyCredential(form_key))\n",
        "\n",
        "try:\n",
        "    print(\"Analyzing receipt...\")\n",
        "    # Get the receipt image file\n",
        "    image_path = os.path.join('data', 'form-receipt', 'receipt.jpg')\n",
        "\n",
        "    # Submit the file data to form recognizer\n",
        "    with open(image_path, \"rb\") as f:\n",
        "        analyze_receipt = form_recognizer_client.begin_recognize_receipts(receipt=f)\n",
        "    \n",
        "    # Get the results\n",
        "    receipt_data = analyze_receipt.result()\n",
        "\n",
        "    # Print the extracted data for the first (and only) receipt\n",
        "    receipt = receipt_data[0]\n",
        "    receipt_type = receipt.fields.get(\"ReceiptType\")\n",
        "    if receipt_type:\n",
        "        print(\"Receipt Type: {}\".format(receipt_type.value))\n",
        "    merchant_address = receipt.fields.get(\"MerchantAddress\")\n",
        "    if merchant_address:\n",
        "        print(\"Merchant Address: {}\".format(merchant_address.value))\n",
        "    merchant_phone = receipt.fields.get(\"MerchantPhoneNumber\")\n",
        "    if merchant_phone:\n",
        "        print(\"Merchant Phone: {}\".format(merchant_phone.value))\n",
        "    transaction_date = receipt.fields.get(\"TransactionDate\")\n",
        "    if transaction_date:\n",
        "        print(\"Transaction Date: {}\".format(transaction_date.value))\n",
        "    print(\"Receipt items:\")\n",
        "    items = receipt.fields.get(\"Items\")\n",
        "    if items:\n",
        "        for idx, item in enumerate(receipt.fields.get(\"Items\").value):\n",
        "            print(\"\\tItem #{}\".format(idx+1))\n",
        "            item_name = item.value.get(\"Name\")\n",
        "            if item_name:\n",
        "                print(\"\\t - Name: {}\".format(item_name.value))\n",
        "            item_total_price = item.value.get(\"TotalPrice\")\n",
        "            if item_total_price:\n",
        "                print(\"\\t - Price: {}\".format(item_total_price.value))\n",
        "    subtotal = receipt.fields.get(\"Subtotal\")\n",
        "    if subtotal:\n",
        "        print(\"Subtotal: {} \".format(subtotal.value))\n",
        "    tax = receipt.fields.get(\"Tax\")\n",
        "    if tax:\n",
        "        print(\"Tax: {}\".format(tax.value))\n",
        "    total = receipt.fields.get(\"Total\")\n",
        "    if total:\n",
        "        print(\"Total: {}\".format(total.value))\n",
        "\n",
        "except Exception as ex:\n",
        "    print('Error:', ex)\n"
      ],
      "outputs": [],
      "execution_count": null,
      "metadata": {
        "gather": {
          "logged": 1599694525404
        }
      }
    },
    {
      "cell_type": "markdown",
      "source": [
        "Form Recognizer は、フォーム内のデータを解釈して、店舗の住所と電話番号、販売日時、各行の項目、小計、税金、合計金額などを正しく識別することができます。\r\n",
        "\r\n",
        "## 詳細情報\r\n",
        "\r\n",
        "Form Recognizer サービスの詳細については、「[Form Recognizer ドキュメント](https://docs.microsoft.com/ja-jp/azure/cognitive-services/form-recognizer/index)」を参照してください。"
      ],
      "metadata": {}
    }
  ],
  "metadata": {
    "language_info": {
      "name": "python",
      "version": "3.6.9",
      "mimetype": "text/x-python",
      "codemirror_mode": {
        "name": "ipython",
        "version": 3
      },
      "pygments_lexer": "ipython3",
      "nbconvert_exporter": "python",
      "file_extension": ".py"
    },
    "kernelspec": {
      "name": "python3-azureml",
      "language": "python",
      "display_name": "Python 3.6 - AzureML"
    },
    "kernel_info": {
      "name": "python3-azureml"
    },
    "nteract": {
      "version": "nteract-front-end@1.0.0"
    }
  },
  "nbformat": 4,
  "nbformat_minor": 2
}