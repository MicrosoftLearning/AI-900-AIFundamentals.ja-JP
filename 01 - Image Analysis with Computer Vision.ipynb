{
  "cells": [
    {
      "cell_type": "markdown",
      "source": [
        "# Computer Vision サービスを使用した画像分析\r\n",
        "\r\n",
        "![絵を持っているロボット](./images/computer_vision.jpg)\r\n",
        "\r\n",
        "*Computer Vision* は人工知能 (AI) の一分野であり、カメラを通してリアルタイムに世界を「見る」ことも、画像やビデオを分析することによって世界を「見る」こともできるように開発された AI システムです。デジタル画像は本質的に数値のピクセルの配列なので、ピクセル値を*特性*として使用することで、機械学習モデルをトレーニングできます。これにより、画像の分類をはじめ、画像内に写っている個別の物体検出や写真の概要テキストの生成が可能です。\r\n",
        "\r\n",
        "## Computer Vision Cognitive Service を使用する\r\n",
        "\r\n",
        "Microsoft Azure には、一般的な AI 機能を集めた多数の *Cognitive Services* があります。その中には、Computer Vision ソリューションの構築に役立つものも含まれています。\r\n",
        "\r\n",
        "Azure の Computer Vision の使用を検討する場合は、*Computer Vision* Cognitive Service を試してみることをお勧めします。このサービスは、事前にトレーニングされた機械学習モデルを使用できるため、画像を分析し、画像に関する情報を抽出することが可能です。\r\n",
        "\r\n",
        "たとえば、小売店 Northwind Traders が「スマート ストア」を開設するシナリオを検討してみます。このスマート ストアでは、AI サービスが店舗を監視して、支援が必要な買い物客を特定し、店員に支援を指示します。Computer Vision サービスを使用すると、カメラで撮影した店舗全体の画像を分析して、画像に表示されている、その意味を説明することが可能です。\r\n",
        "\r\n",
        "### Cognitive Services リソースを作成する\r\n",
        "\r\n",
        "Azure サブスクリプションで **Cognitive Services** のリソースを作成することから始めます。\r\n",
        "\r\n",
        "1. ブラウザーの新しいタブで Azure portal (https://portal.azure.com) を開き、Microsoft アカウントでサインインします。\r\n",
        "2. 「**&#65291;リソースの作成**」 ボタンをクリックし、*Cognitive Services* を検索して、以下の設定で **Cognitive Services** リソースを作成します。\r\n",
        "    - **サブスクリプション**: *使用する Azure サブスクリプション*\r\n",
        "    - **リソース グループ**: *一意の名前のリソース グループを選択または作成します*\r\n",
        "    - **リージョン**: *利用可能な任意のリージョンを選択します*。\r\n",
        "    - **名前**: *一意の名前を入力します*。\r\n",
        "    - **価格レベル**: S0\r\n",
        "    - **注意事項を読み理解しました**: 選択されています。\r\n",
        "3. デプロイが完了するまで待ちます。そのあと Cognitive Services リソースに移動し、「**概要**」 ページでリンクをクリックしてサービスのキーを管理します。クライアント アプリケーションから Cognitive Services リソースに接続するには、エンドポイントとキーが必要です。\r\n",
        "\r\n",
        "### Cognitive Services リソースのキーとエンドポイントを取得する\r\n",
        "\r\n",
        "クライアント アプリケーションで Cognitive Services リソースを使用するには、そのエンドポイントと認証キーが必要です。\r\n",
        "\r\n",
        "1. Azure portalで、Cognitive Services リソースの 「**キーとエンドポイント**」 ページからリソースの 「**キー 1**」 の値をコピーし、以下のコードに貼り付けます (**YOUR_COG_KEY** と置き換える)。\r\n",
        "2. リソースの**エンドポイント**をコピーして以下のコードに貼り付けます (**YOUR_COG_ENDPOINT** と置き換える)。\r\n",
        "3. セルを選択し、セルの左側にある 「**セルの実行**」 (&#9655;) ボタンをクリックして、以下のコードを実行します。"
      ],
      "metadata": {}
    },
    {
      "cell_type": "code",
      "source": [
        "cog_key = 'YOUR_COG_KEY'\n",
        "cog_endpoint = 'YOUR_COG_ENDPOINT'\n",
        "\n",
        "print('Ready to use cognitive services at {} using key {}'.format(cog_endpoint, cog_key))"
      ],
      "outputs": [],
      "execution_count": null,
      "metadata": {
        "gather": {
          "logged": 1599691487445
        }
      }
    },
    {
      "cell_type": "markdown",
      "source": [
        "キーとエンドポイントを設定したので、Computer Vision サービスを使用して画像を分析できるようになりました。\r\n",
        "\r\n",
        "次のセルを実行して、*/data/vision/store_cam1.jpg* ファイル内の画像の説明を取得します。"
      ],
      "metadata": {}
    },
    {
      "cell_type": "code",
      "source": [
        "from azure.cognitiveservices.vision.computervision import ComputerVisionClient\n",
        "from msrest.authentication import CognitiveServicesCredentials\n",
        "from python_code import vision\n",
        "import os\n",
        "%matplotlib inline\n",
        "\n",
        "# Get the path to an image file\r\n",
        "image_path = os.path.join('data', 'vision', 'store_cam1.jpg')\n",
        "\n",
        "# Get a client for the computer vision service\r\n",
        "computervision_client = ComputerVisionClient(cog_endpoint, CognitiveServicesCredentials(cog_key))\n",
        "\n",
        "# Get a description from the computer vision service\r\n",
        "image_stream = open(image_path, \"rb\")\n",
        "description = computervision_client.describe_image_in_stream(image_stream)\n",
        "\n",
        "# Display image and caption (code in helper_scripts/vision.py)\r\n",
        "vision.show_image_caption(image_path, description)\n"
      ],
      "outputs": [],
      "execution_count": null,
      "metadata": {
        "gather": {
          "logged": 1599691518279
        }
      }
    },
    {
      "cell_type": "markdown",
      "source": [
        "ほぼ正確な結果を得ることができました。\r\n",
        "\r\n",
        "別の画像を試してみます。"
      ],
      "metadata": {}
    },
    {
      "cell_type": "code",
      "source": [
        "# Get the path to an image file\r\n",
        "image_path = os.path.join('data', 'vision', 'store_cam2.jpg')\n",
        "\n",
        "# Get a description from the computer vision service\r\n",
        "image_stream = open(image_path, \"rb\")\n",
        "description = computervision_client.describe_image_in_stream(image_stream)\n",
        "\n",
        "# Display image and caption (code in helper_scripts/vision.py)\r\n",
        "vision.show_image_caption(image_path, description)"
      ],
      "outputs": [],
      "execution_count": null,
      "metadata": {
        "gather": {
          "logged": 1599691524330
        }
      }
    },
    {
      "cell_type": "markdown",
      "source": [
        "これも、得られた説明は、ほぼ正確なようです。\r\n",
        "\r\n",
        "## 画像の特徴を分析する\r\n",
        "\r\n",
        "ここまで、Computer Vision サービスを使用していくつかの画像の説明を生成しましたが、他にもできることは多数あります。Computer Vision サービスの分析機能を使用すると、次のような詳細情報も抽出できます。\r\n",
        "\r\n",
        "- 画像で検出された物体の一般的な場所\r\n",
        "- 画像に写っている場所と、人物の顔のおおよその年齢。\r\n",
        "- 画像に成人向けコンテンツや卑猥なコンテンツ、残酷なコンテンツなどが含まれているかどうか。\r\n",
        "- 見つけやすくするためにデータベース内の画像に関連付けることができる関連タグ。\r\n",
        "\r\n",
        "次のコードを実行して、買い物客の画像を分析します。"
      ],
      "metadata": {}
    },
    {
      "cell_type": "code",
      "source": [
        "# Get the path to an image file\r\n",
        "image_path = os.path.join('data', 'vision', 'store_cam1.jpg')\n",
        "\n",
        "# Specify the features we want to analyze\r\n",
        "features = ['Description', 'Tags', 'Adult', 'Objects', 'Faces']\n",
        "\n",
        "# Get an analysis from the computer vision service\r\n",
        "image_stream = open(image_path, \"rb\")\n",
        "analysis = computervision_client.analyze_image_in_stream(image_stream, visual_features=features)\n",
        "\n",
        "# Show the results of analysis (code in helper_scripts/vision.py)\r\n",
        "vision.show_image_analysis(image_path, analysis)"
      ],
      "outputs": [],
      "execution_count": null,
      "metadata": {
        "gather": {
          "logged": 1599691530747
        }
      }
    },
    {
      "cell_type": "markdown",
      "source": [
        "## 詳細情報\r\n",
        "\r\n",
        "このノートブックで確認した機能に加えて、Computer Vision Cognitive Services には次のような機能があります。\r\n",
        "\r\n",
        "- 画像に写っている有名人を特定する。\r\n",
        "- 画像に写っているブランド ロゴを検出する。\r\n",
        "- 光学式文字認識 (OCR) を実行して、画像に写っているテキストを読み取る。\r\n",
        "\r\n",
        "Computer Vision Cognitive Services の詳細については、「[Computer Vision ドキュメント](https://docs.microsoft.com/azure/cognitive-services/computer-vision/)」を参照してください。\r\n"
      ],
      "metadata": {}
    }
  ],
  "metadata": {
    "language_info": {
      "name": "python",
      "version": "3.6.9",
      "mimetype": "text/x-python",
      "codemirror_mode": {
        "name": "ipython",
        "version": 3
      },
      "pygments_lexer": "ipython3",
      "nbconvert_exporter": "python",
      "file_extension": ".py"
    },
    "kernelspec": {
      "name": "python3-azureml",
      "language": "python",
      "display_name": "Python 3.6 - AzureML"
    },
    "kernel_info": {
      "name": "python3-azureml"
    },
    "nteract": {
      "version": "nteract-front-end@1.0.0"
    }
  },
  "nbformat": 4,
  "nbformat_minor": 2
}